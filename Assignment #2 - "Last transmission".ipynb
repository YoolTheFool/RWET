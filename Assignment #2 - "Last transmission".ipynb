{
 "cells": [
  {
   "cell_type": "code",
   "execution_count": 1,
   "metadata": {
    "collapsed": true
   },
   "outputs": [],
   "source": [
    "import random"
   ]
  },
  {
   "cell_type": "code",
   "execution_count": 2,
   "metadata": {
    "collapsed": true
   },
   "outputs": [],
   "source": [
    "me = [\n",
    "    'StarDust-1',\n",
    "    'Gold-leader',\n",
    "    'LoneComet-3',\n",
    "    'DarkSun-9'\n",
    "]\n"
   ]
  },
  {
   "cell_type": "code",
   "execution_count": 3,
   "metadata": {
    "collapsed": true
   },
   "outputs": [],
   "source": [
    "system1 = [\n",
    "    'engines',\n",
    "    'fule cells',\n",
    "    'fusion reactor',\n",
    "    'octo-radar'\n",
    "]"
   ]
  },
  {
   "cell_type": "code",
   "execution_count": 4,
   "metadata": {
    "collapsed": true
   },
   "outputs": [],
   "source": [
    "system2 = [\n",
    "    'life support systems',\n",
    "    'shields',\n",
    "    'weapon systems',\n",
    "    'communication system'\n",
    "]"
   ]
  },
  {
   "cell_type": "code",
   "execution_count": 5,
   "metadata": {
    "collapsed": true
   },
   "outputs": [],
   "source": [
    "action = [\n",
    "    'make my last stand',\n",
    "    'get back home',\n",
    "    'pull back',\n",
    "    'ram into the mothership\\'s reactor'\n",
    "]"
   ]
  },
  {
   "cell_type": "code",
   "execution_count": 6,
   "metadata": {
    "collapsed": true
   },
   "outputs": [],
   "source": [
    "beloved = [\n",
    "    'Commander Flanigan',\n",
    "    'my wife',\n",
    "    'my husband',\n",
    "    'my son'\n",
    "]"
   ]
  },
  {
   "cell_type": "code",
   "execution_count": 18,
   "metadata": {
    "collapsed": true
   },
   "outputs": [],
   "source": [
    "wish = [\n",
    "    'I failed',\n",
    "    'I\\'ll see you in your dreams',\n",
    "    'that I\\'m sorry',\n",
    "    'to carry on'\n",
    "]"
   ]
  },
  {
   "cell_type": "code",
   "execution_count": 67,
   "metadata": {},
   "outputs": [
    {
     "name": "stdout",
     "output_type": "stream",
     "text": [
      "\tEarth command, this is Gold-leader\n",
      "I've been hit, and my engines took severe damage\n",
      "Transferring all remaining power to my weapon systems.\n",
      "I'm gonna try to make my last stand\n",
      "\tTell my son to carry on\n"
     ]
    }
   ],
   "source": [
    "ran_me = random.choice(me)\n",
    "ran_system1 = random.choice(system1)\n",
    "ran_system2 = random.choice(system2)\n",
    "ran_action = random.choice(action)\n",
    "ran_beloved = random.choice(beloved)\n",
    "ran_wish = random.choice(wish)\n",
    "\n",
    "print('\\tEarth command, this is ' + ran_me )\n",
    "print('I\\'ve been hit, and my ' + ran_system1 + ' took severe damage')\n",
    "print('Transferring all remaining power to my ' + ran_system2 + '.')\n",
    "print('I\\'m gonna try to ' + ran_action)\n",
    "print('\\tTell '+ ran_beloved + ' ' + ran_wish ) "
   ]
  }
 ],
 "metadata": {
  "kernelspec": {
   "display_name": "Python 3",
   "language": "python",
   "name": "python3"
  },
  "language_info": {
   "codemirror_mode": {
    "name": "ipython",
    "version": 3
   },
   "file_extension": ".py",
   "mimetype": "text/x-python",
   "name": "python",
   "nbconvert_exporter": "python",
   "pygments_lexer": "ipython3",
   "version": "3.6.3"
  }
 },
 "nbformat": 4,
 "nbformat_minor": 2
}
