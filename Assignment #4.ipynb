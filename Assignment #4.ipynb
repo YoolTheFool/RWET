{
 "cells": [
  {
   "cell_type": "code",
   "execution_count": 3,
   "metadata": {
    "collapsed": true
   },
   "outputs": [],
   "source": [
    "import json"
   ]
  },
  {
   "cell_type": "code",
   "execution_count": 4,
   "metadata": {
    "collapsed": true
   },
   "outputs": [],
   "source": [
    "import random"
   ]
  },
  {
   "cell_type": "code",
   "execution_count": 5,
   "metadata": {
    "collapsed": true
   },
   "outputs": [],
   "source": [
    "import tracery"
   ]
  },
  {
   "cell_type": "code",
   "execution_count": 6,
   "metadata": {
    "collapsed": true
   },
   "outputs": [],
   "source": [
    "from tracery.modifiers import base_english"
   ]
  },
  {
   "cell_type": "code",
   "execution_count": 65,
   "metadata": {
    "collapsed": true
   },
   "outputs": [],
   "source": [
    "materials = ['wooden', 'golden','metallic','marble','silver','uranium','bamboo','clay','paper','sand','glass','onyx','carbon','hydrogen','neon','palladium','aluminum','acrylic','concrete','copper','ceramic','plywood','hemp','asbestos','glass fiber','rock','drift-wood','sawdust','bone','fossilized','adamantium','acid','dolomite','lint','wool','silk','sateen','leather','cellophane','polyester','brass','iron','titanium','fimo','play-doh','silicone','rubber','sugar','wax','latex','ivory']"
   ]
  },
  {
   "cell_type": "code",
   "execution_count": 95,
   "metadata": {
    "collapsed": true
   },
   "outputs": [],
   "source": [
    "animals = json.loads(open(\"common.json\").read())"
   ]
  },
  {
   "cell_type": "code",
   "execution_count": 96,
   "metadata": {
    "collapsed": true
   },
   "outputs": [],
   "source": [
    "verbs = json.loads(open(\"verbs_with_conjugations.json\").read())"
   ]
  },
  {
   "cell_type": "code",
   "execution_count": 123,
   "metadata": {
    "scrolled": true
   },
   "outputs": [
    {
     "ename": "KeyError",
     "evalue": "'#animaly1#'",
     "output_type": "error",
     "traceback": [
      "\u001b[0;31m---------------------------------------------------------------------------\u001b[0m",
      "\u001b[0;31mKeyError\u001b[0m                                  Traceback (most recent call last)",
      "\u001b[0;32m<ipython-input-123-1fb97b79fbed>\u001b[0m in \u001b[0;36m<module>\u001b[0;34m()\u001b[0m\n\u001b[1;32m      8\u001b[0m \u001b[0;31m#        'verb_present' : verby['future']\u001b[0m\u001b[0;34m\u001b[0m\u001b[0;34m\u001b[0m\u001b[0m\n\u001b[1;32m      9\u001b[0m         }\n\u001b[0;32m---> 10\u001b[0;31m \u001b[0mrules\u001b[0m\u001b[0;34m[\u001b[0m\u001b[0;34m'#animaly1#'\u001b[0m\u001b[0;34m]\u001b[0m\u001b[0;34m\u001b[0m\u001b[0m\n\u001b[0m\u001b[1;32m     11\u001b[0m \u001b[0;34m\u001b[0m\u001b[0m\n\u001b[1;32m     12\u001b[0m \u001b[0;34m\u001b[0m\u001b[0m\n",
      "\u001b[0;31mKeyError\u001b[0m: '#animaly1#'"
     ]
    }
   ],
   "source": [
    "rules = {'origin' : '#[animaly1: #animals1#][animaly2: #animals2#][materialsy: #materials#]statement#',\n",
    "        'statement' : '#materialsy.capitalize#  #animaly1.s#   are being   #verb_perfect# by #animaly2.s# \\n\\n\\t\\t\\t since \\n\\n#animaly2.s#        #verb_present#        #materialsy#         things \\n\\n\\t\\t\\t  but \\n',\n",
    "        'materials' : materials,\n",
    "        'animals1' : animals['animals'],\n",
    "        'animals2' : animals['animals'],\n",
    "         'last_animal':rules['animals2']\n",
    "#        'verb_perfect' : verby['perfect'],\n",
    "#        'verb_present' : verby['future']\n",
    "        }\n",
    "rules[]\n",
    "\n",
    "                       "
   ]
  },
  {
   "cell_type": "code",
   "execution_count": 128,
   "metadata": {},
   "outputs": [
    {
     "name": "stdout",
     "output_type": "stream",
     "text": [
      " leather   ewes   are being   stepped by  shrews \n",
      "\n",
      "\t\t\t since \n",
      "\n",
      " shrews        step         leather         things \n",
      "\n",
      "\t\t\t  but \n",
      "\n",
      " ivory   lambs   are being   stepped by  raccoons \n",
      "\n",
      "\t\t\t since \n",
      "\n",
      " raccoons        step         ivory         things \n",
      "\n",
      "\t\t\t  but \n",
      "\n",
      " silver   otters   are being   stepped by  otters \n",
      "\n",
      "\t\t\t since \n",
      "\n",
      " otters        step         silver         things \n",
      "\n",
      "\t\t\t  but \n",
      "\n"
     ]
    }
   ],
   "source": [
    "\n",
    "rules_copy = dict(rules)\n",
    "rules_copy['verb_perfect'] = verby['perfect']\n",
    "rules_copy['verb_present'] = verby['future']\n",
    "rules_copy['animals1'] = rules_copy['last_animal']\n",
    "grammar = tracery.Grammar(rules_copy)\n",
    "grammar.add_modifiers(base_english)\n",
    "verby = random.choice([verb['indicative'] for verb in verbs])\n",
    "print(grammar.flatten ('#origin#'))\n",
    "\n",
    "for i in range(3):\n"
   ]
  },
  {
   "cell_type": "code",
   "execution_count": null,
   "metadata": {
    "collapsed": true
   },
   "outputs": [],
   "source": []
  }
 ],
 "metadata": {
  "kernelspec": {
   "display_name": "Python 3",
   "language": "python",
   "name": "python3"
  },
  "language_info": {
   "codemirror_mode": {
    "name": "ipython",
    "version": 3
   },
   "file_extension": ".py",
   "mimetype": "text/x-python",
   "name": "python",
   "nbconvert_exporter": "python",
   "pygments_lexer": "ipython3",
   "version": "3.6.3"
  }
 },
 "nbformat": 4,
 "nbformat_minor": 2
}
