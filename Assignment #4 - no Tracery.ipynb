{
 "cells": [
  {
   "cell_type": "code",
   "execution_count": 2,
   "metadata": {
    "collapsed": true
   },
   "outputs": [],
   "source": [
    "import json"
   ]
  },
  {
   "cell_type": "code",
   "execution_count": 3,
   "metadata": {
    "collapsed": true
   },
   "outputs": [],
   "source": [
    "import random"
   ]
  },
  {
   "cell_type": "code",
   "execution_count": 4,
   "metadata": {
    "collapsed": true
   },
   "outputs": [],
   "source": [
    "import tracery"
   ]
  },
  {
   "cell_type": "code",
   "execution_count": 5,
   "metadata": {
    "collapsed": true
   },
   "outputs": [],
   "source": [
    "from tracery.modifiers import base_english"
   ]
  },
  {
   "cell_type": "code",
   "execution_count": 6,
   "metadata": {
    "collapsed": true
   },
   "outputs": [],
   "source": [
    "materials = ['wooden', 'golden','metallic','marble','silver','uranium','bamboo','clay','paper','sand','glass','onyx','carbon','hydrogen','neon','palladium','aluminum','acrylic','concrete','copper','ceramic','plywood','hemp','asbestos','glass fiber','rock','drift-wood','sawdust','bone','fossilized','adamantium','acid','dolomite','lint','wool','silk','sateen','leather','cellophane','polyester','brass','iron','titanium','fimo','play-doh','silicone','rubber','sugar','wax','latex','ivory']"
   ]
  },
  {
   "cell_type": "code",
   "execution_count": 17,
   "metadata": {
    "collapsed": true
   },
   "outputs": [],
   "source": [
    "animals = json.loads(open(\"common.json\").read())"
   ]
  },
  {
   "cell_type": "code",
   "execution_count": 18,
   "metadata": {},
   "outputs": [],
   "source": [
    "verbs = json.loads(open(\"verbs_with_conjugations.json\").read())"
   ]
  },
  {
   "cell_type": "code",
   "execution_count": 61,
   "metadata": {},
   "outputs": [
    {
     "name": "stdout",
     "output_type": "stream",
     "text": [
      "rubber elephants \tare\t being noted    by    weasels\n",
      "\n",
      "\t\t\t\tsince \n",
      "\n",
      "weasels\t\tnote\t\trubber\t\tthings \n",
      "\n",
      "\t\t\t\tbut\n",
      "\n",
      "play-doh weasels \tare\t being meddled    by    lemurs\n",
      "\n",
      "\t\t\t\tsince \n",
      "\n",
      "lemurs\t\tmeddle\t\tplay-doh\t\tthings \n",
      "\n",
      "\t\t\t\tbut\n",
      "\n",
      "rubber lemurs \tare\t being objected    by    iguanas\n",
      "\n",
      "\t\t\t\tsince \n",
      "\n",
      "iguanas\t\tobject\t\trubber\t\tthings \n",
      "\n",
      "\t\t\t\tbut\n",
      "\n",
      "silicone iguanas \tare\t being faxed    by    pigs\n",
      "\n",
      "\t\t\t\tsince \n",
      "\n",
      "pigs\t\tfax\t\tsilicone\t\tthings \n",
      "\n",
      "\t\t\t\tbut\n",
      "\n"
     ]
    }
   ],
   "source": [
    "animal1 = random.choice(animals['animals'])\n",
    "for i in range(4):\n",
    "    material = random.choice(materials)\n",
    "    animal2 = random.choice(animals['animals'])\n",
    "    verby = random.choice([verb['indicative'] for verb in verbs])\n",
    "    verb_perfect = verby['perfect'][0]\n",
    "    verb_present = verby['future'][0]\n",
    "    print(material +' ' + animal1+'s \\tare\\t being '+ verb_perfect + '    by    ' + animal2 +'s\\n\\n\\t\\t\\t\\tsince \\n\\n' + animal2 +'s\\t\\t'+ verb_present + '\\t\\t' + material+\"\\t\\tthings \\n\\n\\t\\t\\t\\tbut\\n\")\n",
    "    last_animal = animal2\n",
    "    animal1 = last_animal"
   ]
  },
  {
   "cell_type": "code",
   "execution_count": null,
   "metadata": {
    "collapsed": true
   },
   "outputs": [],
   "source": []
  }
 ],
 "metadata": {
  "kernelspec": {
   "display_name": "Python 3",
   "language": "python",
   "name": "python3"
  },
  "language_info": {
   "codemirror_mode": {
    "name": "ipython",
    "version": 3
   },
   "file_extension": ".py",
   "mimetype": "text/x-python",
   "name": "python",
   "nbconvert_exporter": "python",
   "pygments_lexer": "ipython3",
   "version": "3.6.3"
  }
 },
 "nbformat": 4,
 "nbformat_minor": 2
}
