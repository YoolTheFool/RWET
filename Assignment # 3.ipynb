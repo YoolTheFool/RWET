{
 "cells": [
  {
   "cell_type": "markdown",
   "metadata": {},
   "source": [
    "##  Poetry Masher"
   ]
  },
  {
   "cell_type": "code",
   "execution_count": 181,
   "metadata": {
    "collapsed": true
   },
   "outputs": [],
   "source": [
    "import random"
   ]
  },
  {
   "cell_type": "code",
   "execution_count": 230,
   "metadata": {},
   "outputs": [],
   "source": [
    "poem1 = [line.strip() for line in open('frankenstein.txt')]\n",
    "poem2 = [line.strip() for line in open('wasteland.txt')]\n",
    "poem1_clean = [line for line in poem1 if line != \"\"]\n",
    "poem2_clean = [line for line in poem2 if line != \"\"]\n"
   ]
  },
  {
   "cell_type": "code",
   "execution_count": 231,
   "metadata": {},
   "outputs": [],
   "source": [
    "ran_line_1 = random.choice(poem1_clean)\n",
    "ran_line_2 = random.choice(poem1_clean)\n",
    "ran_line_3 = random.choice(poem2_clean)\n",
    "ran_line_4 = random.choice(poem2_clean)"
   ]
  },
  {
   "cell_type": "code",
   "execution_count": 232,
   "metadata": {
    "scrolled": true
   },
   "outputs": [],
   "source": [
    "ran_word_1 = random.sample(ran_line_1.split(),1)\n",
    "ran_word_2 = random.sample(ran_line_2.split(),1)\n",
    "ran_word_3 = random.sample(ran_line_3.split(),1)\n",
    "ran_word_4 = random.sample(ran_line_4.split(),1)\n"
   ]
  },
  {
   "cell_type": "code",
   "execution_count": 233,
   "metadata": {
    "collapsed": true
   },
   "outputs": [],
   "source": [
    "x = ['terrifying','toxic','feral','restless']"
   ]
  },
  {
   "cell_type": "code",
   "execution_count": 234,
   "metadata": {},
   "outputs": [
    {
     "data": {
      "text/plain": [
       "['restless', 'toxic', 'terrifying', 'feral']"
      ]
     },
     "execution_count": 234,
     "metadata": {},
     "output_type": "execute_result"
    }
   ],
   "source": [
    "random.shuffle(x)\n",
    "x"
   ]
  },
  {
   "cell_type": "code",
   "execution_count": 235,
   "metadata": {},
   "outputs": [
    {
     "name": "stdout",
     "output_type": "stream",
     "text": [
      "The river bears no empty bottles, sandwich papers,\n",
      "\thim\n",
      "\thim\n",
      "\trestless him\n",
      "\"You! hypocrite lecteur! - mon semblable, - mon frere!\"\n",
      "\tsilence\n",
      "\tsilence\n",
      "\ttoxic silence\n",
      "I avoided explanation and maintained a continual silence concerning the\n",
      "\thypocrite\n",
      "\thypocrite\n",
      "\tterrifying hypocrite\n",
      "him for the change and filled him with cheerfulness and admiration. But\n",
      "\tbears\n",
      "\tbears\n",
      "\tferal bears\n"
     ]
    }
   ],
   "source": [
    "print(ran_line_4)\n",
    "print('\\t' + ' '.join(ran_word_1))\n",
    "print('\\t' + ' '.join(ran_word_1))\n",
    "print('\\t' + x[0] +' ' + ' '.join(ran_word_1))\n",
    "print(ran_line_3)\n",
    "print('\\t' + ' '.join(ran_word_2))\n",
    "print('\\t' + ' '.join(ran_word_2))\n",
    "print('\\t' + x[1] +' ' + ' '.join(ran_word_2))\n",
    "print(ran_line_2)\n",
    "print('\\t' + ' '.join(ran_word_3))\n",
    "print('\\t' + ' '.join(ran_word_3))\n",
    "print('\\t' + x[2] +' ' + ' '.join(ran_word_3) )\n",
    "print(ran_line_1)\n",
    "print('\\t' + ' '.join(ran_word_4))\n",
    "print('\\t' + ' '.join(ran_word_4))\n",
    "print('\\t' + x[3] + ' ' + ' '.join(ran_word_4))\n"
   ]
  },
  {
   "cell_type": "code",
   "execution_count": null,
   "metadata": {
    "collapsed": true
   },
   "outputs": [],
   "source": []
  },
  {
   "cell_type": "code",
   "execution_count": null,
   "metadata": {
    "collapsed": true
   },
   "outputs": [],
   "source": []
  }
 ],
 "metadata": {
  "kernelspec": {
   "display_name": "Python 3",
   "language": "python",
   "name": "python3"
  },
  "language_info": {
   "codemirror_mode": {
    "name": "ipython",
    "version": 3
   },
   "file_extension": ".py",
   "mimetype": "text/x-python",
   "name": "python",
   "nbconvert_exporter": "python",
   "pygments_lexer": "ipython3",
   "version": "3.6.3"
  }
 },
 "nbformat": 4,
 "nbformat_minor": 2
}
